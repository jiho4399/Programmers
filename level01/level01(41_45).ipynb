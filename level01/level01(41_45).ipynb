{
  "nbformat": 4,
  "nbformat_minor": 0,
  "metadata": {
    "colab": {
      "name": "level1(41_45).ipynb",
      "provenance": [],
      "collapsed_sections": []
    },
    "kernelspec": {
      "name": "python3",
      "display_name": "Python 3"
    },
    "language_info": {
      "name": "python"
    }
  },
  "cells": [
    {
      "cell_type": "markdown",
      "source": [
        "# 41.폰켓몬"
      ],
      "metadata": {
        "id": "yAmfyPlNRbQj"
      }
    },
    {
      "cell_type": "code",
      "source": [
        "def solution(nums):\n",
        "  s = set(nums)\n",
        "  lst = []\n",
        "\n",
        "  for i in s:\n",
        "    lst.append(i)\n",
        "    if len(lst) == len(nums)/2:\n",
        "      break\n",
        "\n",
        "  return len(lst)\n"
      ],
      "metadata": {
        "id": "nB--b5SURbAm"
      },
      "execution_count": null,
      "outputs": []
    },
    {
      "cell_type": "code",
      "execution_count": null,
      "metadata": {
        "colab": {
          "base_uri": "https://localhost:8080/"
        },
        "id": "u2O2WJtQQeX_",
        "outputId": "f12505ce-27e4-4248-eb7b-06791536d013"
      },
      "outputs": [
        {
          "output_type": "stream",
          "name": "stdout",
          "text": [
            "3\n"
          ]
        }
      ],
      "source": [
        "# 메모\n",
        "\n",
        "nums = [3,1,2,3]\n",
        "s = set(nums)\n",
        "lst = []\n",
        "\n",
        "for i in s:\n",
        "  lst.append(i)\n",
        "  if len(lst) == len(nums)/2:\n",
        "    break\n",
        "\n",
        "print(len(lst))"
      ]
    },
    {
      "cell_type": "code",
      "source": [
        "# 다른 사람 풀이\n",
        "\n",
        "def solution(nums):\n",
        "    return min(len(nums)/2, len(set(nums)))"
      ],
      "metadata": {
        "id": "rr1qk3t9abfO"
      },
      "execution_count": null,
      "outputs": []
    },
    {
      "cell_type": "markdown",
      "source": [
        "# 42.체육복"
      ],
      "metadata": {
        "id": "H6mPA_fXWlgy"
      }
    },
    {
      "cell_type": "code",
      "source": [
        "def solution(n, lost, reserve):\n",
        "    reserve2 = list(set(reserve) - set(lost))\n",
        "    lost2 = list(set(lost) - set(reserve))\n",
        "\n",
        "    ans = n - len(lost2)\n",
        "\n",
        "    for i in lost2:\n",
        "        if i - 1 in reserve2:\n",
        "            reserve2.remove(i - 1)\n",
        "            ans += 1\n",
        "            \n",
        "        elif i + 1 in reserve2:\n",
        "            reserve2.remove(i + 1)\n",
        "            ans += 1\n",
        "\n",
        "    return ans"
      ],
      "metadata": {
        "id": "Ex71FeWTD2wF"
      },
      "execution_count": null,
      "outputs": []
    },
    {
      "cell_type": "code",
      "source": [
        "def solution(n, lost, reserve):\n",
        "  ans = n - len(lost)\n",
        "\n",
        "  for i in reserve:\n",
        "    for j in lost:\n",
        "      if j + 1 == i:\n",
        "        ans += 1\n",
        "\n",
        "  return ans"
      ],
      "metadata": {
        "id": "QGLKzqk1YCSJ"
      },
      "execution_count": null,
      "outputs": []
    },
    {
      "cell_type": "code",
      "source": [
        "# 메모\n",
        "\n",
        "n = 5\n",
        "lost = [2, 4]\n",
        "reserve = [1, 3, 5]\n",
        "\n",
        "lost = [2, 4]\n",
        "reserve = [3]\n",
        "\n",
        "# lost = [2, 5]\n",
        "# reserve = [1, 3, 4]\n",
        "\n",
        "lost = [1, 3]\n",
        "reserve = [2, 3, 5]\n",
        "\n",
        "lost_2 = list(set(lost) - set(reserve))\n",
        "reserve_2 = list(set(reserve) - set(lost))\n",
        "\n",
        "print(lost_2)\n",
        "print(reserve_2)\n",
        "\n",
        "# lost = [2, 4]\n",
        "# reserve = [1, 3]\n",
        "\n",
        "# lost = [3]\n",
        "# reserve = [1]\n",
        "\n",
        "lst = []\n",
        "ans = n - len(lost)\n",
        "\n",
        "for i in lost:\n",
        "  if i - 1 in reserve:\n",
        "    reserve.remove(i-1)\n",
        "    # print(reserve)\n",
        "    ans += 1\n",
        "  elif i + 1 in reserve:\n",
        "    reserve.remove(i+1)\n",
        "    # print(reserve)\n",
        "    ans += 1\n",
        "\n",
        "print(ans)"
      ],
      "metadata": {
        "colab": {
          "base_uri": "https://localhost:8080/"
        },
        "id": "wS5-mC_wWnye",
        "outputId": "be3e14d6-5a88-489d-9e66-ee50fcef2147"
      },
      "execution_count": null,
      "outputs": [
        {
          "output_type": "stream",
          "name": "stdout",
          "text": [
            "[1]\n",
            "[2, 5]\n",
            "4\n"
          ]
        }
      ]
    },
    {
      "cell_type": "code",
      "source": [
        "n = 5\n",
        "lost = [2, 4]\n",
        "reserve = [1, 3, 5]\n",
        "\n",
        "have = list(range(1, n+1))\n",
        "\n"
      ],
      "metadata": {
        "colab": {
          "base_uri": "https://localhost:8080/"
        },
        "id": "p2gq_IuJX2-v",
        "outputId": "c83bba80-de3f-462d-ec50-aa128e930a9f"
      },
      "execution_count": null,
      "outputs": [
        {
          "output_type": "execute_result",
          "data": {
            "text/plain": [
              "[1, 2, 3, 4, 5]"
            ]
          },
          "metadata": {},
          "execution_count": 55
        }
      ]
    },
    {
      "cell_type": "markdown",
      "source": [
        "# 43.모의고사"
      ],
      "metadata": {
        "id": "ePpXMtPEW0Gs"
      }
    },
    {
      "cell_type": "code",
      "source": [
        "def solution(answers):\n",
        "  supo = [[1, 2, 3, 4, 5], [2, 1, 2, 3, 2, 4, 2, 5], [3, 3, 1, 1, 2, 2, 4, 4, 5, 5]]\n",
        "\n",
        "  dic = {}\n",
        "\n",
        "  for i in range(3):\n",
        "    if len(answers) > len(supo[i]):\n",
        "      count = len(answers) // len(supo[i]) + 1\n",
        "\n",
        "    else:\n",
        "      count = 1\n",
        "\n",
        "    supo_ans = supo[i] * count\n",
        "    # print(supo_ans)\n",
        "    n = 0\n",
        "    for j in range(len(answers)):\n",
        "      if answers[j] == supo_ans[j]:\n",
        "        n += 1\n",
        "        dic[i+1] = n\n",
        "\n",
        "  # print(dic)\n",
        "\n",
        "  ans = []\n",
        "\n",
        "  # winner = max(dic.values())\n",
        "\n",
        "  for k in dic.items():\n",
        "    if k[1] == max(dic.values()):\n",
        "      ans.append(k[0])\n",
        "\n",
        "  return ans"
      ],
      "metadata": {
        "id": "ABpI4vwzap0u"
      },
      "execution_count": null,
      "outputs": []
    },
    {
      "cell_type": "code",
      "source": [
        "# 메모\n",
        "# 리스트 (마무리 X)\n",
        "\n",
        "answers = [1, 2, 3, 4, 5]\n",
        "answers = [1,3,2,4,2]\n",
        "\n",
        "supo = [[1, 2, 3, 4, 5], [2, 1, 2, 3, 2, 4, 2, 5], [3, 3, 1, 1, 2, 2, 4, 4, 5, 5]]\n",
        "\n",
        "lst = [0]*3\n",
        "\n",
        "for i in range(3):\n",
        "  if len(answers) > len(supo[i]):\n",
        "    count = len(answers) // len(supo[i]) + 1\n",
        "\n",
        "  else:\n",
        "    count = 1\n",
        "  \n",
        "  supo_ans = supo[i] * count\n",
        "  # print(supo_ans)\n",
        "\n",
        "  for j in range(len(answers)):\n",
        "    if answers[j] == supo_ans[j]:\n",
        "      lst[i] += 1\n",
        "\n",
        "print(lst)\n",
        "\n",
        "# winner = lst.index(max(lst)) + 1\n",
        "winner = max(lst)\n",
        "print(winner)\n",
        "\n",
        "\n"
      ],
      "metadata": {
        "colab": {
          "base_uri": "https://localhost:8080/"
        },
        "id": "EKOW_8iWW4fp",
        "outputId": "9864b92b-f57d-49d5-88fa-4cabe31f92fd"
      },
      "execution_count": null,
      "outputs": [
        {
          "output_type": "stream",
          "name": "stdout",
          "text": [
            "[2, 2, 2]\n",
            "2\n"
          ]
        }
      ]
    },
    {
      "cell_type": "code",
      "source": [
        "# 딕셔너리\n",
        "# 이거는 제일 높은 점수 사람만 출력 (성공)\n",
        "\n",
        "# answers = [1, 2, 3, 4, 5]\n",
        "answers = [3, 2, 3, 3, 2]\n",
        "# answers = [3, 2, 3]\n",
        "\n",
        "supo = [[1, 2, 3, 4, 5], [2, 1, 2, 3, 2, 4, 2, 5], [3, 3, 1, 1, 2, 2, 4, 4, 5, 5]]\n",
        "\n",
        "dic = {}\n",
        "\n",
        "for i in range(3):\n",
        "  if len(answers) > len(supo[i]):\n",
        "    count = len(answers) // len(supo[i]) + 1\n",
        "\n",
        "  else:\n",
        "    count = 1\n",
        "\n",
        "  supo_ans = supo[i] * count\n",
        "  # print(supo_ans)\n",
        "  n = 0\n",
        "  for j in range(len(answers)):\n",
        "    if answers[j] == supo_ans[j]:\n",
        "      n += 1\n",
        "      dic[i+1] = n\n",
        "\n",
        "print(dic)\n",
        "\n",
        "ans = []\n",
        "\n",
        "# winner = max(dic.values())\n",
        "\n",
        "for k in dic.items():\n",
        "  if k[1] == max(dic.values()):\n",
        "    ans.append(k[0])\n",
        "\n",
        "ans"
      ],
      "metadata": {
        "colab": {
          "base_uri": "https://localhost:8080/"
        },
        "id": "LhcS_v5NcRKV",
        "outputId": "3754b8dd-1ff7-4125-b7c4-eb159d234954"
      },
      "execution_count": null,
      "outputs": [
        {
          "output_type": "stream",
          "name": "stdout",
          "text": [
            "{1: 2, 2: 2, 3: 2}\n"
          ]
        },
        {
          "output_type": "execute_result",
          "data": {
            "text/plain": [
              "[1, 2, 3]"
            ]
          },
          "metadata": {},
          "execution_count": 168
        }
      ]
    },
    {
      "cell_type": "code",
      "source": [
        "# 이거는 순서대로 나열\n",
        "def solution(answers):\n",
        "  supo = [[1, 2, 3, 4, 5], [2, 1, 2, 3, 2, 4, 2, 5], [3, 3, 1, 1, 2, 2, 4, 4, 5, 5]]\n",
        "\n",
        "  dic = {}\n",
        "\n",
        "  for i in range(3):\n",
        "    if len(answers) > len(supo[i]):\n",
        "      count = len(answers) // len(supo[i]) + 1\n",
        "\n",
        "    else:\n",
        "      count = 1\n",
        "    \n",
        "    supo_ans = supo[i] * count\n",
        "    # print(supo_ans)\n",
        "    n = 0\n",
        "    for j in range(len(answers)):\n",
        "      if answers[j] == supo_ans[j]:\n",
        "        n += 1\n",
        "        dic[i+1] = n\n",
        "\n",
        "  # print(dic)\n",
        "\n",
        "  return sorted(dic, key = lambda x: dic[x], reverse=True)\n",
        "\n",
        "solution([1, 2, 3, 4, 5])"
      ],
      "metadata": {
        "colab": {
          "base_uri": "https://localhost:8080/"
        },
        "id": "AmNAGriVoCns",
        "outputId": "ed49571e-b8f0-40dc-9381-87f414219d89"
      },
      "execution_count": null,
      "outputs": [
        {
          "output_type": "execute_result",
          "data": {
            "text/plain": [
              "[1]"
            ]
          },
          "metadata": {},
          "execution_count": 172
        }
      ]
    },
    {
      "cell_type": "markdown",
      "source": [
        "# 44.K번째수"
      ],
      "metadata": {
        "id": "HTDmGuXn---5"
      }
    },
    {
      "cell_type": "code",
      "source": [
        "def solution(array, commands):\n",
        "  lst = []\n",
        "\n",
        "  for i in commands:\n",
        "    ans = sorted(array[i[0]-1 : i[1]])[i[2]-1]\n",
        "    lst.append(ans)\n",
        "\n",
        "  return lst"
      ],
      "metadata": {
        "id": "5JomycaXBsS1"
      },
      "execution_count": null,
      "outputs": []
    },
    {
      "cell_type": "code",
      "source": [
        "# 메모\n",
        "array = [1, 5, 2, 6, 3, 7, 4]\n",
        "commands = [[2, 5, 3], [4, 4, 1], [1, 7, 3]]\n",
        "\n",
        "lst = []\n",
        "\n",
        "for i in commands:\n",
        "  ans = sorted(array[i[0]-1 : i[1]])[i[2]-1]\n",
        "  lst.append(ans)\n",
        "\n",
        "lst"
      ],
      "metadata": {
        "colab": {
          "base_uri": "https://localhost:8080/"
        },
        "id": "_1SgETZcj5Uj",
        "outputId": "bfec35ac-50f6-4d07-c435-b0b309c7d0d8"
      },
      "execution_count": null,
      "outputs": [
        {
          "output_type": "execute_result",
          "data": {
            "text/plain": [
              "[5, 6, 3]"
            ]
          },
          "metadata": {},
          "execution_count": 1
        }
      ]
    },
    {
      "cell_type": "markdown",
      "source": [
        "# 45.완주하지 못한 선수"
      ],
      "metadata": {
        "id": "mWKfcAfHbXnO"
      }
    },
    {
      "cell_type": "code",
      "source": [
        "def solution(participant, completion):\n",
        "  participant.sort()\n",
        "  completion.sort()\n",
        "\n",
        "  for i in range(len(completion)):\n",
        "    if participant[i] != completion[i]:\n",
        "      return participant[i]\n",
        "\n",
        "  return participant[len(participant)-1]"
      ],
      "metadata": {
        "id": "wF1MdThibwb5"
      },
      "execution_count": null,
      "outputs": []
    },
    {
      "cell_type": "code",
      "source": [
        "# 안됨\n",
        "participant = [\"leo\", \"kiki\", \"eden\"]\n",
        "completion = [\"eden\", \"kiki\"]\n",
        "\n",
        "for i in participant:\n",
        "  if i in completion:\n",
        "    pass\n",
        "  else:\n",
        "    print(i)"
      ],
      "metadata": {
        "colab": {
          "base_uri": "https://localhost:8080/"
        },
        "id": "sj_vqV31AaJt",
        "outputId": "c1023dcd-cc76-429f-e431-359879827083"
      },
      "execution_count": null,
      "outputs": [
        {
          "output_type": "stream",
          "name": "stdout",
          "text": [
            "leo\n"
          ]
        }
      ]
    },
    {
      "cell_type": "code",
      "source": [
        "# 성공\n",
        "participant.sort()\n",
        "completion.sort()\n",
        "\n",
        "for i in range(len(completion)):\n",
        "  if participant[i] != completion[i]:\n",
        "    print(participant[i])\n",
        "\n",
        "print(participant[len(participant)-1])"
      ],
      "metadata": {
        "colab": {
          "base_uri": "https://localhost:8080/"
        },
        "id": "cJ59SaY9bpoi",
        "outputId": "b85bbd85-2bad-4e9c-b347-78a594c40b20"
      },
      "execution_count": null,
      "outputs": [
        {
          "output_type": "stream",
          "name": "stdout",
          "text": [
            "leo\n"
          ]
        }
      ]
    },
    {
      "cell_type": "code",
      "source": [
        "# import collections\n",
        "# def solution(participant, completion):\n",
        "#     # 1. participant의 Counter를 구한다\n",
        "#     # 2. completion의 Counter를 구한다\n",
        "#     # 3. 둘의 차를 구하면 정답만 남아있는 counter를 반환한다\n",
        "#     answer = collections.Counter(participant) - collections.Counter(completion)\n",
        "    \n",
        "#     # 4. counter의 key값을 반환한다\n",
        "#     return list(answer.keys())[0]\n",
        "\n",
        "# print(solution([\"marina\", \"josipa\", \"nikola\", \"vinko\", \"filipa\"]\n",
        "# , [\"josipa\", \"filipa\", \"marina\", \"nikola\"]))\n",
        "# 출처: https://coding-grandpa.tistory.com/85 [개발자로 취직하기:티스토리]"
      ],
      "metadata": {
        "id": "ShW_zOighwY_"
      },
      "execution_count": null,
      "outputs": []
    },
    {
      "cell_type": "code",
      "source": [
        ""
      ],
      "metadata": {
        "id": "7qWFPCFiZai6"
      },
      "execution_count": null,
      "outputs": []
    }
  ]
}