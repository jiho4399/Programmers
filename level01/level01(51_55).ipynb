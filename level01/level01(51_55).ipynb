{
  "nbformat": 4,
  "nbformat_minor": 0,
  "metadata": {
    "colab": {
      "name": "level01(51_55).ipynb",
      "provenance": [],
      "collapsed_sections": [],
      "toc_visible": true
    },
    "kernelspec": {
      "name": "python3",
      "display_name": "Python 3"
    },
    "language_info": {
      "name": "python"
    }
  },
  "cells": [
    {
      "cell_type": "markdown",
      "source": [
        "# 51.키패드 누르기"
      ],
      "metadata": {
        "id": "b-DiPrtG04Bu"
      }
    },
    {
      "cell_type": "code",
      "source": [
        "def solution(numbers, hand):\n",
        "  # import numpy as np\n",
        "\n",
        "  result = ''\n",
        "  left = '*'\n",
        "  right = '#'\n",
        "\n",
        "  phone = {1 : [1, 0], 2 : [2, 0], 3 : [3, 0],\n",
        "          4 : [1, 1], 5 : [2, 1], 6 : [3, 1],\n",
        "          7 : [1, 2], 8 : [2, 2], 9 : [3, 2],\n",
        "          '*' : [1, 3], 0 : [2, 3], '#' : [3, 3]}\n",
        "\n",
        "  for i in numbers:\n",
        "    if i in [1, 4, 7]:\n",
        "      left = i\n",
        "      result += 'L'\n",
        "\n",
        "    elif i in [3, 6, 9]:\n",
        "      right = i\n",
        "      result += 'R'\n",
        "\n",
        "    else:\n",
        "      dist_1 = abs(phone[i][0] - phone[left][0]) + abs(phone[i][1] - phone[left][1])\n",
        "      dist_2 = abs(phone[i][0] - phone[right][0]) + abs(phone[i][1] - phone[right][1])\n",
        "\n",
        "      if dist_1 < dist_2:\n",
        "        result += 'L'\n",
        "        left = i\n",
        "\n",
        "      elif dist_1 > dist_2:\n",
        "        result += 'R'\n",
        "        right = i\n",
        "\n",
        "      else:\n",
        "        if hand == 'left':\n",
        "          result += 'L'\n",
        "          left = i\n",
        "\n",
        "        else: \n",
        "          result += 'R'\n",
        "          right = i\n",
        "\n",
        "  return result\n"
      ],
      "metadata": {
        "id": "gkA2j2-hxjbj"
      },
      "execution_count": null,
      "outputs": []
    },
    {
      "cell_type": "code",
      "execution_count": null,
      "metadata": {
        "colab": {
          "base_uri": "https://localhost:8080/",
          "height": 36
        },
        "id": "rEcOaXiy0rMA",
        "outputId": "832de993-0b17-4cea-aaef-03b1e6fb2f92"
      },
      "outputs": [
        {
          "output_type": "execute_result",
          "data": {
            "text/plain": [
              "'LRLLRRLLLRR'"
            ],
            "application/vnd.google.colaboratory.intrinsic+json": {
              "type": "string"
            }
          },
          "metadata": {},
          "execution_count": 37
        }
      ],
      "source": [
        "# import numpy as np\n",
        "\n",
        "numbers = [7, 0, 8, 2, 8, 3, 1, 5, 7, 6, 2]\n",
        "hand = 'left'\n",
        "\n",
        "result = ''\n",
        "left = '*'\n",
        "right = '#'\n",
        "\n",
        "phone = {1 : [1, 0], 2 : [2, 0], 3 : [3, 0],\n",
        "         4 : [1, 1], 5 : [2, 1], 6 : [3, 1],\n",
        "         7 : [1, 2], 8 : [2, 2], 9 : [3, 2],\n",
        "         '*' : [1, 3], 0 : [2, 3], '#' : [3, 3]}\n",
        "\n",
        "for i in numbers:\n",
        "  if i in [1, 4, 7]:\n",
        "    left = i\n",
        "    result += 'L'\n",
        "\n",
        "  elif i in [3, 6, 9]:\n",
        "    right = i\n",
        "    result += 'R'\n",
        "\n",
        "  else:\n",
        "    # dist_1 = np.linalg.norm(np.array(phone[i]) - np.array(phone[left]))\n",
        "    # dist_2 = np.linalg.norm(np.array(phone[i]) - np.array(phone[right]))\n",
        "\n",
        "    dist_1 = abs(phone[i][0] - phone[left][0]) + abs(phone[i][1] - phone[left][1])\n",
        "    dist_2 = abs(phone[i][0] - phone[right][0]) + abs(phone[i][1] - phone[right][1])\n",
        "\n",
        "    if dist_1 < dist_2:\n",
        "      result += 'L'\n",
        "      left = i\n",
        "\n",
        "    elif dist_1 > dist_2:\n",
        "      result += 'R'\n",
        "      right = i\n",
        "\n",
        "    else:\n",
        "      if hand == 'left':\n",
        "        result += 'L'\n",
        "        left = i\n",
        "\n",
        "      else: \n",
        "        result += 'R'\n",
        "        right = i\n",
        "\n",
        "result"
      ]
    },
    {
      "cell_type": "markdown",
      "source": [
        "# 52.숫자 문자열과 영단어"
      ],
      "metadata": {
        "id": "I1YJsGrb8K4H"
      }
    },
    {
      "cell_type": "code",
      "source": [
        "def solution(s):\n",
        "  words = {'zero' : '0', 'one' : '1', 'two' : '2',\n",
        "          'three' : '3', 'four' : '4', 'five' : '5', \n",
        "          'six' : '6', 'seven' : '7', 'eight' : '8', 'nine' : '9'}\n",
        "\n",
        "  for word in words:\n",
        "    s = s.replace(word, words[word])\n",
        "\n",
        "  return int(s)"
      ],
      "metadata": {
        "id": "FwW7wjQO8KgE"
      },
      "execution_count": null,
      "outputs": []
    },
    {
      "cell_type": "code",
      "source": [
        "# 다른 사람 풀이\n",
        "\n",
        "def solution(s):\n",
        "  words = ['zero', 'one', 'two','three', 'four', \n",
        "           'five', 'six', 'seven', 'eight', 'nine']\n",
        "\n",
        "  for i in range(len(words)):\n",
        "    s = s.replace(words[i], str(i))\n",
        "\n",
        "  return int(s)"
      ],
      "metadata": {
        "id": "ekvZU-Rc9K6X"
      },
      "execution_count": null,
      "outputs": []
    },
    {
      "cell_type": "markdown",
      "source": [
        "# 53.신규 아이디 추천\n"
      ],
      "metadata": {
        "id": "mCtpL8-ggWxF"
      }
    },
    {
      "cell_type": "code",
      "source": [
        "def solution(new_id):\n",
        "  id = ''\n",
        "\n",
        "  # 소문자 치환\n",
        "  new_id = new_id.lower()\n",
        "\n",
        "  # 소문자, 숫자, 특수문자\n",
        "  for i in new_id:\n",
        "    if i.islower() or i.isdigit() or i in ['-', '_', '.']:\n",
        "      id += i\n",
        "\n",
        "  # 연속된 마침표 처리\n",
        "  while '..' in id:\n",
        "    id = id.replace('..', '.')\n",
        "\n",
        "  print(id, 1)\n",
        "\n",
        "  # 마침표 처음/끝 처리\n",
        "  if id[0] == '.':\n",
        "    if len(id) >= 2:\n",
        "      id = id[1:]\n",
        "    else:\n",
        "      id = '.'\n",
        "\n",
        "  print(id, 1)\n",
        "\n",
        "  if id[-1] == '.':\n",
        "    id = id[:-1]\n",
        "\n",
        "  print(id)\n",
        "\n",
        "  # 빈 문자열이라면 a 붙이기\n",
        "  if id == '':\n",
        "    id = 'a'\n",
        "\n",
        "  # 길이 맞추기\n",
        "  if len(id) >= 16:\n",
        "    id = id[:15]\n",
        "    if id[-1] == '.':\n",
        "      id = id[:-1]\n",
        "\n",
        "  while len(id) < 3:\n",
        "    id += id[-1]\n",
        "\n",
        "\n",
        "  return id"
      ],
      "metadata": {
        "id": "nBCOI6scAz-N"
      },
      "execution_count": null,
      "outputs": []
    },
    {
      "cell_type": "code",
      "source": [
        "new_id = \"...!@BaT#*..y.abcdefghijklm\"\n",
        "new_id = \t\"z-+.^.\"\n",
        "\n",
        "id = ''\n",
        "\n",
        "# 소문자 치환\n",
        "new_id = new_id.lower()\n",
        "\n",
        "# 소문자, 숫자, 특수문자\n",
        "for i in new_id:\n",
        "  if i.islower() or i.isdigit() or i in ['-', '_', '.']:\n",
        "    id += i\n",
        "\n",
        "# 연속된 마침표 처리\n",
        "while '..' in id:\n",
        "  id = id.replace('..', '.')\n",
        "\n",
        "print(id, 1)\n",
        "\n",
        "# 마침표 처음/끝 처리\n",
        "if id[0] == '.':\n",
        "  if len(id) >= 2:\n",
        "    id = id[1:]\n",
        "  else:\n",
        "    id = '.'\n",
        "\n",
        "print(id, 1)\n",
        "\n",
        "if id[-1] == '.':\n",
        "  id = id[:-1]\n",
        "\n",
        "print(id)\n",
        "\n",
        "# 빈 문자열이라면 a 붙이기\n",
        "if id == '':\n",
        "  id = 'a'\n",
        "\n",
        "# 길이 맞추기\n",
        "if len(id) >= 16:\n",
        "  id = id[:15]\n",
        "  if id[-1] == '.':\n",
        "    id = id[:-1]\n",
        "\n",
        "while len(id) < 3:\n",
        "  id += id[-1]\n",
        "\n",
        "id"
      ],
      "metadata": {
        "colab": {
          "base_uri": "https://localhost:8080/",
          "height": 89
        },
        "id": "IB82SIpkgZ9Z",
        "outputId": "e516df1d-9be4-4001-ff43-33a0095fe659"
      },
      "execution_count": null,
      "outputs": [
        {
          "output_type": "stream",
          "name": "stdout",
          "text": [
            "z-. 1\n",
            "z-. 1\n",
            "z-\n"
          ]
        },
        {
          "output_type": "execute_result",
          "data": {
            "text/plain": [
              "'z--'"
            ],
            "application/vnd.google.colaboratory.intrinsic+json": {
              "type": "string"
            }
          },
          "metadata": {},
          "execution_count": 56
        }
      ]
    },
    {
      "cell_type": "markdown",
      "source": [
        "# 54.로또의 최고 순위와 최저 순위"
      ],
      "metadata": {
        "id": "_QgrVue4HDol"
      }
    },
    {
      "cell_type": "code",
      "source": [
        "def solution(lottos, win_nums):\n",
        "  point = 0\n",
        "  point2 = 0\n",
        "\n",
        "  for i in range(len(lottos)):\n",
        "    if lottos[i] in win_nums:\n",
        "      point += 1\n",
        "      point2 += 1\n",
        "    \n",
        "    elif lottos[i] == 0:\n",
        "      point2 += 1\n",
        "\n",
        "  rank = {6 : 1, 5: 2, 4 : 3, 3 : 4, 2 : 5, 1 : 6, 0 : 6}\n",
        "\n",
        "  return [rank[point2], rank[point]]\n",
        "\n"
      ],
      "metadata": {
        "id": "ZkFv6OUtdSyM"
      },
      "execution_count": null,
      "outputs": []
    },
    {
      "cell_type": "code",
      "source": [
        "lottos = [44, 1, 0, 0, 31, 25]\n",
        "# lottos = [0, 0, 0, 0 ,0 ,0]\n",
        "win_nums = [31, 10, 45, 1, 6, 19]\n",
        "\n",
        "point = 0\n",
        "point2 = 0\n",
        "\n",
        "for i in range(len(lottos)):\n",
        "  if lottos[i] in win_nums:\n",
        "    win_nums.remove(lottos[i])\n",
        "    point += 1\n",
        "    point2 += 1\n",
        "  \n",
        "  elif lottos[i] == 0:\n",
        "    point2 += 1\n",
        "\n",
        "rank = {6 : 1, 5: 2, 4 : 3, 3 : 4, 2 : 5, 1 : 6, 0 : 6}\n",
        "\n",
        "result = [rank[point2], rank[point]]\n",
        "\n"
      ],
      "metadata": {
        "colab": {
          "base_uri": "https://localhost:8080/"
        },
        "id": "HqgF8osovptX",
        "outputId": "9ae73c7a-6281-4412-b761-6490b297288d"
      },
      "execution_count": 58,
      "outputs": [
        {
          "output_type": "stream",
          "name": "stdout",
          "text": [
            "[44, 1, 0, 0, 31, 25]\n",
            "[10, 45, 6, 19]\n",
            "[5, 3]\n",
            "2\n",
            "4\n"
          ]
        }
      ]
    },
    {
      "cell_type": "markdown",
      "source": [
        "# 55.신고 결과 받기"
      ],
      "metadata": {
        "id": "NVSL6bs6owrx"
      }
    },
    {
      "cell_type": "code",
      "source": [
        "def solution(id_list, report, k):\n",
        "  lst = []\n",
        "  reportedID = {_ : 0 for _ in id_list} # 각 ID가 신고 당한 횟수\n",
        "\n",
        "  for i in set(report):\n",
        "    names = i.split()\n",
        "    lst.append(names)\n",
        "\n",
        "  # 각 ID가 신고 당한 횟수\n",
        "  for p in lst:\n",
        "    for m in reportedID:\n",
        "      if p[1] == m:\n",
        "        reportedID[m] += 1\n",
        "\n",
        "  answer = [0] * len(id_list)\n",
        "\n",
        "  for i in set(report):\n",
        "    cnt = 0\n",
        "    a, b = i.split()\n",
        "    if reportedID[b] >= k:\n",
        "        answer[id_list.index(a)] += 1\n",
        "\n",
        "  return answer"
      ],
      "metadata": {
        "colab": {
          "base_uri": "https://localhost:8080/"
        },
        "id": "jS6EWt3_JCuH",
        "outputId": "ba41adb7-f03e-4292-84a5-61d5e07874f3"
      },
      "execution_count": 25,
      "outputs": [
        {
          "output_type": "stream",
          "name": "stdout",
          "text": [
            "[['muzi', 'frodo'], ['apeach', 'frodo'], ['frodo', 'neo'], ['muzi', 'neo'], ['apeach', 'muzi']]\n",
            "{'muzi': {'frodo', 'neo'}, 'frodo': {'neo'}, 'apeach': {'muzi', 'frodo'}, 'neo': 0}\n"
          ]
        }
      ]
    },
    {
      "cell_type": "code",
      "source": [
        "id_list = [\"muzi\", \"frodo\", \"apeach\", \"neo\"]\n",
        "report = [\"muzi frodo\",\"apeach frodo\",\"frodo neo\",\"muzi neo\",\"apeach muzi\"]\n",
        "k = 2\n",
        "lst = []\n",
        "reportedID = {_ : 0 for _ in id_list} # 각 ID가 신고 당한 횟수\n",
        "\n",
        "for i in set(report):\n",
        "  names = i.split()\n",
        "  lst.append(names)\n",
        "\n",
        "# 각 ID가 신고 당한 횟수\n",
        "for p in lst:\n",
        "  for m in reportedID:\n",
        "    if p[1] == m:\n",
        "      reportedID[m] += 1\n",
        "\n",
        "answer = [0] * len(id_list)\n",
        "\n",
        "for i in set(report):\n",
        "  cnt = 0\n",
        "  a, b = i.split()\n",
        "  if reportedID[b] >= k:\n",
        "      answer[id_list.index(a)] += 1\n",
        "\n",
        "print(lst)\n",
        "print(reportedID)\n",
        "print(reportID)\n",
        "print(answer)"
      ],
      "metadata": {
        "colab": {
          "base_uri": "https://localhost:8080/"
        },
        "id": "U1IMd_9Kv-zz",
        "outputId": "c861d82e-6dd4-4a98-87f3-26cc31082410"
      },
      "execution_count": 58,
      "outputs": [
        {
          "output_type": "stream",
          "name": "stdout",
          "text": [
            "[['muzi', 'frodo'], ['muzi', 'neo'], ['apeach', 'muzi'], ['apeach', 'frodo'], ['frodo', 'neo']]\n",
            "{'muzi': 1, 'frodo': 2, 'apeach': 0, 'neo': 2}\n",
            "{'muzi': 0, 'frodo': 0, 'apeach': 0, 'neo': 0}\n",
            "[2, 1, 1, 0]\n"
          ]
        }
      ]
    },
    {
      "cell_type": "code",
      "source": [
        "report = [\"muzi frodo\",\"apeach frodo\",\"frodo neo\",\"muzi neo\",\"apeach muzi\"]\n",
        "reportedID = {_ : 0 for _ in id_list}\n",
        "answer = [0] * len(id_list)\n",
        "k = 2\n",
        "\n",
        "for r in set(report):\n",
        "    a,b = r.split()\n",
        "    reportedID[b] += 1\n",
        "\n",
        "print(reportedID)\n",
        "\n",
        "for r in set(report):\n",
        "    a,b = r.split()\n",
        "    if reportedID[b] >= k:\n",
        "        answer[id_list.index(a)] += 1\n",
        "\n",
        "answer"
      ],
      "metadata": {
        "colab": {
          "base_uri": "https://localhost:8080/"
        },
        "id": "82KPTpG2FF9A",
        "outputId": "ad7c0cd2-5999-4a02-cdd2-f689f93d7988"
      },
      "execution_count": 9,
      "outputs": [
        {
          "output_type": "stream",
          "name": "stdout",
          "text": [
            "{'muzi': 1, 'frodo': 2, 'apeach': 0, 'neo': 2}\n"
          ]
        },
        {
          "output_type": "execute_result",
          "data": {
            "text/plain": [
              "[2, 1, 1, 0]"
            ]
          },
          "metadata": {},
          "execution_count": 9
        }
      ]
    },
    {
      "cell_type": "code",
      "source": [
        ""
      ],
      "metadata": {
        "id": "WktEpThQ4QIB"
      },
      "execution_count": null,
      "outputs": []
    }
  ]
}