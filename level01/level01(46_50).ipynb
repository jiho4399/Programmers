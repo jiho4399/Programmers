{
  "nbformat": 4,
  "nbformat_minor": 0,
  "metadata": {
    "colab": {
      "name": "level01(46_50).ipynb",
      "provenance": [],
      "collapsed_sections": []
    },
    "kernelspec": {
      "name": "python3",
      "display_name": "Python 3"
    },
    "language_info": {
      "name": "python"
    }
  },
  "cells": [
    {
      "cell_type": "markdown",
      "source": [
        "# 46.소수만들기"
      ],
      "metadata": {
        "id": "opWDPfCqZs7Y"
      }
    },
    {
      "cell_type": "code",
      "source": [
        "def solution(nums):\n",
        "    answer = 0\n",
        "\n",
        "    for first in range(0, len(nums)-2):\n",
        "        for second in range(first+1, len(nums)-1):\n",
        "            for third in range(second+1, len(nums)):\n",
        "                sum_num = nums[first] + nums[second] + nums[third]\n",
        "                # 소수 판별\n",
        "                for i in range(2, sum_num//2):\n",
        "                    if sum_num % i == 0:\n",
        "                        break\n",
        "                else:\n",
        "                    answer += 1\n",
        "    return answer"
      ],
      "metadata": {
        "id": "-Rx9bhpF7jBK"
      },
      "execution_count": null,
      "outputs": []
    },
    {
      "cell_type": "code",
      "source": [
        "# 다른 사람 풀이\n",
        "def solution(nums):\n",
        "    from itertools import combinations as cb # 중복허용(X), 순서의미(O) 인 조합을 import\n",
        "    answer = 0\n",
        "    for a in cb(nums, 3):\n",
        "        cand = sum(a)\n",
        "        for j in range(2, cand):\n",
        "            if cand%j==0:\n",
        "                break\n",
        "        else:\n",
        "            answer += 1\n",
        "    return answer"
      ],
      "metadata": {
        "id": "I9Bu-xeH8G1x"
      },
      "execution_count": null,
      "outputs": []
    },
    {
      "cell_type": "code",
      "execution_count": null,
      "metadata": {
        "id": "tf7_0KDcZm3k"
      },
      "outputs": [],
      "source": [
        "# 구글링\n",
        "from itertools import combinations\n",
        "\n",
        "# 아리스토텔레스의 체 반환\n",
        "def aristoSieve(size):\n",
        "    aristo = [True] * (size + 1)\n",
        "    aristo[0], aristo[1] = False, False\n",
        "    \n",
        "    # 1 ~ 1000까지의 아리스토텔레스의 체\n",
        "    for i in range(2, int(size ** 0.5) + 1):\n",
        "        if aristo[i] == True:\n",
        "            for j in range(i + i, size + 1, i):\n",
        "                aristo[j] = False\n",
        "                \n",
        "    return aristo\n",
        "\n",
        "# 솔루션 함수\n",
        "def solution(nums):\n",
        "    answer = 0\n",
        "    # 아리스토 체 생성\n",
        "    aristo = aristoSieve(3000)\n",
        "    # 숫자 3개를 조합해서 나오는 것을 출력\n",
        "    combi = list(combinations(nums, 3))\n",
        "    \n",
        "    for case in combi:\n",
        "        if aristo[sum(case)]:\n",
        "            answer += 1\n",
        "\n",
        "    return answer"
      ]
    },
    {
      "cell_type": "markdown",
      "source": [
        "# 47.내적"
      ],
      "metadata": {
        "id": "1X6ARup52BuH"
      }
    },
    {
      "cell_type": "code",
      "source": [
        "def solution(a, b):\n",
        "  for i in range(len(a)):\n",
        "    a[i] *= b[i]\n",
        "\n",
        "  return sum(a)"
      ],
      "metadata": {
        "id": "3niRtk3YMg4-"
      },
      "execution_count": null,
      "outputs": []
    },
    {
      "cell_type": "code",
      "source": [
        "# 메모 \n",
        "a = [1,2,3,4]\n",
        "b =\t[-3,-1,0,2]\n",
        "\n",
        "for i in range(len(a)):\n",
        "  a[i] *= b[i]\n",
        "\n",
        "sum(a)"
      ],
      "metadata": {
        "colab": {
          "base_uri": "https://localhost:8080/"
        },
        "id": "_bAJMtJ92CnC",
        "outputId": "3e4cf817-c14b-4712-a29e-da189ea34b4c"
      },
      "execution_count": null,
      "outputs": [
        {
          "output_type": "execute_result",
          "data": {
            "text/plain": [
              "3"
            ]
          },
          "metadata": {},
          "execution_count": 12
        }
      ]
    },
    {
      "cell_type": "code",
      "source": [
        "# 다른 사람 풀이\n",
        "\n",
        "def solution(a, b):\n",
        "    return sum([x*y for x, y in zip(a,b)])"
      ],
      "metadata": {
        "id": "2g6lChKpMxgW"
      },
      "execution_count": null,
      "outputs": []
    },
    {
      "cell_type": "markdown",
      "source": [
        "# 48.음양 더하기"
      ],
      "metadata": {
        "id": "hUYt1sSZ2Eyw"
      }
    },
    {
      "cell_type": "code",
      "source": [
        "def solution(absolutes, signs):\n",
        "  for i in range(len(absolutes)):\n",
        "    if signs[i] :\n",
        "      absolutes[i] *= 1\n",
        "\n",
        "    else:\n",
        "      absolutes[i] *= (-1)\n",
        "\n",
        "  return sum(absolutes)"
      ],
      "metadata": {
        "id": "rILeTvJa7S05"
      },
      "execution_count": null,
      "outputs": []
    },
    {
      "cell_type": "code",
      "source": [
        "absolutes = [4,7,12]\n",
        "signs = ['true', 'false', 'true']\n",
        "\n",
        "for i in range(len(absolutes)):\n",
        "  if signs[i] == 'true':\n",
        "    absolutes[i] = absolutes[i] * 1\n",
        "\n",
        "  else:\n",
        "    absolutes[i] = absolutes[i] * (-1)\n",
        "\n",
        "sum(absolutes)"
      ],
      "metadata": {
        "colab": {
          "base_uri": "https://localhost:8080/"
        },
        "id": "gv1U0Mpo2Gu9",
        "outputId": "29373e56-6d44-44c7-c09b-a0bf14c7726c"
      },
      "execution_count": null,
      "outputs": [
        {
          "output_type": "execute_result",
          "data": {
            "text/plain": [
              "9"
            ]
          },
          "metadata": {},
          "execution_count": 9
        }
      ]
    },
    {
      "cell_type": "markdown",
      "source": [
        "# 49.없는 숫자 더하기"
      ],
      "metadata": {
        "id": "LnFPzaNBho-S"
      }
    },
    {
      "cell_type": "code",
      "source": [
        "def solution(numbers):\n",
        "  main = {0, 1, 2, 3, 4, 5, 6, 7, 8, 9}\n",
        "\n",
        "  return sum(main - set(numbers))"
      ],
      "metadata": {
        "id": "VdJv-wFA3ChC",
        "colab": {
          "base_uri": "https://localhost:8080/"
        },
        "outputId": "dd325fb5-d552-43ed-a549-438aae46d937"
      },
      "execution_count": null,
      "outputs": [
        {
          "output_type": "execute_result",
          "data": {
            "text/plain": [
              "14"
            ]
          },
          "metadata": {},
          "execution_count": 8
        }
      ]
    },
    {
      "cell_type": "markdown",
      "source": [
        "# 50.크레인 인형뽑기 게임"
      ],
      "metadata": {
        "id": "_fQ8tMNsjbvM"
      }
    },
    {
      "cell_type": "code",
      "source": [
        "def solution(board, moves):\n",
        "  board2 = []\n",
        "  ans = 0\n",
        "\n",
        "  for i in moves:\n",
        "    for j in board:\n",
        "      if j[i-1] > 0:\n",
        "        board2.append(j[i-1])\n",
        "        # print(board2)\n",
        "        j[i-1] = 0\n",
        "        \n",
        "\n",
        "        if len(board2) > 1:\n",
        "          if board2[-2] == board2[-1]:\n",
        "            del board2[-2], board2[-1]\n",
        "            # del board2[-1]\n",
        "            # print(board2)\n",
        "            ans += 2\n",
        "            \n",
        "        break\n",
        "\n",
        "  return ans\n"
      ],
      "metadata": {
        "colab": {
          "base_uri": "https://localhost:8080/"
        },
        "id": "1p4O9uEeipOL",
        "outputId": "50ba8c78-d5c2-4868-bb87-253af765df6b"
      },
      "execution_count": null,
      "outputs": [
        {
          "output_type": "stream",
          "name": "stdout",
          "text": [
            "[4]\n",
            "[4, 3]\n",
            "[4, 3, 1]\n",
            "[4, 3, 1, 1]\n",
            "[4, 3, 3]\n",
            "[4, 2]\n",
            "[4, 2, 4]\n",
            "4\n"
          ]
        }
      ]
    },
    {
      "cell_type": "code",
      "source": [
        ""
      ],
      "metadata": {
        "id": "hvs1l5j-w8ui"
      },
      "execution_count": null,
      "outputs": []
    }
  ]
}