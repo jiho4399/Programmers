{
  "nbformat": 4,
  "nbformat_minor": 0,
  "metadata": {
    "colab": {
      "name": "level01(36_40).ipynb",
      "provenance": [],
      "collapsed_sections": []
    },
    "kernelspec": {
      "name": "python3",
      "display_name": "Python 3"
    },
    "language_info": {
      "name": "python"
    }
  },
  "cells": [
    {
      "cell_type": "markdown",
      "source": [
        "# 36.두 개 뽑아서 더하기"
      ],
      "metadata": {
        "id": "hlTbHG1DqdkS"
      }
    },
    {
      "cell_type": "code",
      "execution_count": null,
      "metadata": {
        "id": "s45q8ORmqVAC"
      },
      "outputs": [],
      "source": [
        "# 정수 배열 numbers\n",
        "# numbers에서 서로 다른 인덱스에 있는 두 개의 수를 뽑아 더해서 만들 수 있는 모든 수를 \n",
        "# 배열에 오름차순으로 담아 return 하도록 solution 함수\n",
        "##########################################################\n",
        "\n",
        "def solution(numbers):\n",
        "  lst = []\n",
        "\n",
        "  for i in range(len(numbers)):\n",
        "    for j in range(i+1, len(numbers)):\n",
        "      if numbers[i] + numbers[j] not in lst:\n",
        "        lst.append(numbers[i] + numbers[j])\n",
        "  lst.sort()\n",
        "  return lst\n",
        "\n",
        "##########################################################"
      ]
    },
    {
      "cell_type": "code",
      "source": [
        "##########################################################\n",
        "# 메모\n",
        "\n",
        "# numbers = [2,1,3,4,1]\n",
        "# numbers = [5,0,2,7]\n",
        "# lst = []\n",
        "\n",
        "# for i in range(len(numbers)):\n",
        "#   for j in range(i+1, len(numbers)):\n",
        "#     if numbers[i] + numbers[j] not in lst:\n",
        "#       lst.append(numbers[i] + numbers[j])\n",
        "\n",
        "# lst.sort()\n",
        "# lst\n",
        "##########################################################"
      ],
      "metadata": {
        "colab": {
          "base_uri": "https://localhost:8080/"
        },
        "id": "5HI6AxW0quzq",
        "outputId": "8f21520e-62fc-45b5-d6ac-da89e3227a2c"
      },
      "execution_count": null,
      "outputs": [
        {
          "output_type": "execute_result",
          "data": {
            "text/plain": [
              "[2, 5, 7, 9, 12]"
            ]
          },
          "metadata": {},
          "execution_count": 24
        }
      ]
    },
    {
      "cell_type": "code",
      "source": [
        "# # 재헌님\n",
        "# def solution(numbers):\n",
        "#     temp=numbers\n",
        "#     answer = []\n",
        "#     for i in sorted(temp):\n",
        "#         temp.remove(i)\n",
        "#         print(i)\n",
        "#         for j in sorted(temp):\n",
        "#             answer.append(i+j)\n",
        "#             print(temp)\n",
        "#     answer=sorted(list(set(answer)))\n",
        "#     print(answer)\n",
        "#     return answer"
      ],
      "metadata": {
        "id": "Rcf_AQvWw5lq"
      },
      "execution_count": 2,
      "outputs": []
    },
    {
      "cell_type": "markdown",
      "source": [
        "# 37.예산"
      ],
      "metadata": {
        "id": "0m36G_Cpxmsr"
      }
    },
    {
      "cell_type": "code",
      "source": [
        "# 부서별로 신청한 금액이 들어있는 배열 d와 예산 budget이 매개변수\n",
        "# 최대 몇 개의 부서에 물품을 지원할 수 있는지 return 하도록 solution 함수\n",
        "##########################################################\n",
        "\n",
        "def solution(d, budget):\n",
        "  ans = 0\n",
        "  for i in sorted(d):\n",
        "    budget -= i\n",
        "    if budget < 0:\n",
        "      break\n",
        "    ans += 1\n",
        "  return ans\n",
        "\n",
        "##########################################################"
      ],
      "metadata": {
        "id": "K8bpUTQxxyo3"
      },
      "execution_count": null,
      "outputs": []
    },
    {
      "cell_type": "code",
      "source": [
        "##########################################################\n",
        "# 메모\n",
        "\n",
        "# d = [1,3,2,5,4]\n",
        "# budget = 9\n",
        "\n",
        "# ans = 0\n",
        "\n",
        "# for i in sorted(d):\n",
        "#   budget -= i\n",
        "#   if budget < 0:\n",
        "#     break\n",
        "  \n",
        "#   ans += 1\n",
        "\n",
        "# ans\n",
        "\n",
        "##########################################################"
      ],
      "metadata": {
        "colab": {
          "base_uri": "https://localhost:8080/"
        },
        "id": "Uah3WHw9wseC",
        "outputId": "0ab9b2bd-d040-40c1-b747-c8d1590952e4"
      },
      "execution_count": null,
      "outputs": [
        {
          "output_type": "execute_result",
          "data": {
            "text/plain": [
              "3"
            ]
          },
          "metadata": {},
          "execution_count": 26
        }
      ]
    },
    {
      "cell_type": "markdown",
      "source": [
        "# 38. 3진법 뒤집기"
      ],
      "metadata": {
        "id": "mk417jw8Raf6"
      }
    },
    {
      "cell_type": "code",
      "source": [
        "# 자연수 n이 매개변수\n",
        "# n을 3진법 상에서 앞뒤로 뒤집은 후, 이를 다시 10진법으로 표현한 수를 return 하도록 solution 함수\n",
        "##########################################################\n",
        "\n",
        "def solution(n):\n",
        "  ans = ''\n",
        "\n",
        "  while n > 0: \n",
        "    n, na = divmod(n, 3)\n",
        "    ans += str(na)\n",
        "\n",
        "  return int(ans, 3)\n",
        "\n",
        "##########################################################"
      ],
      "metadata": {
        "id": "Xcq0nReFRh-B"
      },
      "execution_count": null,
      "outputs": []
    },
    {
      "cell_type": "code",
      "source": [
        "##########################################################\n",
        "# 메모\n",
        "\n",
        "# n = 45\n",
        "\n",
        "# ans = ''\n",
        "\n",
        "# while n > 0: \n",
        "#   n, na = divmod(n, 3)\n",
        "#   ans += str(na)\n",
        "\n",
        "# int(ans, 3)\n",
        "\n",
        "##########################################################"
      ],
      "metadata": {
        "id": "Vu5mG0IS02t1",
        "colab": {
          "base_uri": "https://localhost:8080/"
        },
        "outputId": "fc6285f0-a9b8-4e3f-cd76-f12c7a202ee6"
      },
      "execution_count": null,
      "outputs": [
        {
          "output_type": "execute_result",
          "data": {
            "text/plain": [
              "7"
            ]
          },
          "metadata": {},
          "execution_count": 15
        }
      ]
    },
    {
      "cell_type": "markdown",
      "source": [
        "# 39.약수의 개수와 덧셈"
      ],
      "metadata": {
        "id": "h8yS4GuTRkQ0"
      }
    },
    {
      "cell_type": "code",
      "source": [
        "# 두 정수 left와 right가 매개변수\n",
        "# left부터 right까지의 모든 수들 중에서, 약수의 개수가 짝수인 수는 더하고\n",
        "# 약수의 개수가 홀수인 수는 뺀 수를 return 하도록 solution 함수\n",
        "##########################################################\n",
        "def solution(left, right):\n",
        "  lst = []\n",
        "\n",
        "  for j in range(left, right+1):\n",
        "    count = 0\n",
        "    for i in range(1, right+1):\n",
        "      if j % i == 0:\n",
        "        count += 1\n",
        "    if count % 2 == 0:\n",
        "      lst.append(j)\n",
        "\n",
        "    else:\n",
        "      lst.append(j*(-1))\n",
        "\n",
        "  return sum(lst)\n",
        "##########################################################"
      ],
      "metadata": {
        "id": "YP4JdSWEYZ2y"
      },
      "execution_count": null,
      "outputs": []
    },
    {
      "cell_type": "code",
      "source": [
        "##########################################################\n",
        "# 메모\n",
        "\n",
        "# left = 13\n",
        "# right = 17\n",
        "\n",
        "# lst = []\n",
        "\n",
        "# for j in range(left, right+1):\n",
        "#   count = 0\n",
        "#   for i in range(1, right+1):\n",
        "#     if j % i == 0:\n",
        "#       count += 1\n",
        "#   if count % 2 == 0:\n",
        "#     lst.append(j)\n",
        "\n",
        "#   else:\n",
        "#     lst.append(j*(-1))\n",
        "\n",
        "# sum(lst)\n",
        "\n",
        "##########################################################"
      ],
      "metadata": {
        "id": "Q0v6098YYYsq",
        "colab": {
          "base_uri": "https://localhost:8080/"
        },
        "outputId": "93361189-b31c-4092-ca41-2064de79c959"
      },
      "execution_count": null,
      "outputs": [
        {
          "output_type": "execute_result",
          "data": {
            "text/plain": [
              "43"
            ]
          },
          "metadata": {},
          "execution_count": 12
        }
      ]
    },
    {
      "cell_type": "markdown",
      "source": [
        "# 40.실패율"
      ],
      "metadata": {
        "id": "BQMK6XVHhCCH"
      }
    },
    {
      "cell_type": "code",
      "source": [
        "# 실패율 : 스테이지에 도달했으나 아직 클리어하지 못한 플레이어의 수 / 스테이지에 도달한 플레이어 수\n",
        "# 전체 스테이지의 개수 N\n",
        "# 게임을 이용하는 사용자가 현재 멈춰있는 스테이지의 번호가 담긴 배열 stages가 매개변수\n",
        "# 실패율이 높은 스테이지부터 내림차순으로 스테이지의 번호가 담겨있는 배열을 return 하도록 solution 함수\n",
        "\n",
        "# stages에는 1 이상 N + 1 이하의 자연수\n",
        "# 각 자연수는 사용자가 현재 도전 중인 스테이지의 번호\n",
        "# N + 1 은 마지막 스테이지(N 번째 스테이지) 까지 클리어 한 사용자\n",
        "# 실패율이 같은 스테이지가 있다면 작은 번호의 스테이지가 먼저 오도록\n",
        "# 스테이지에 도달한 유저가 없는 경우 해당 스테이지의 실패율은 0 으로 정의\n",
        "##########################################################\n",
        "def solution(N, stages):\n",
        "  rate = {}\n",
        "\n",
        "  total = len(stages)\n",
        "\n",
        "  for i in range(1, N+1):\n",
        "    if total != 0:\n",
        "      fail = stages.count(i)\n",
        "      rate[i] = fail / total\n",
        "      total -= fail \n",
        "    else:\n",
        "      rate[i] = 0\n",
        "\n",
        "  return sorted(rate, key = lambda x: rate[x], reverse = True)\n",
        "\n",
        "\n",
        "##########################################################"
      ],
      "metadata": {
        "id": "lVo5nn7ChGyk"
      },
      "execution_count": 39,
      "outputs": []
    },
    {
      "cell_type": "code",
      "source": [
        "##########################################################\n",
        "# 메모\n",
        "# 안됨\n",
        "# N = 5\n",
        "# stage =\t[2, 1, 2, 6, 2, 4, 3, 3]\n",
        "# # stage =\t[4,4,4,4,4]\n",
        "# ans = {}\n",
        "\n",
        "# for i in range(1, N+1):\n",
        "#   lst = []\n",
        "#   for j in stage:\n",
        "#     if j >= i:\n",
        "#       lst.append(j)\n",
        "#   print(lst)\n",
        "#   lst2 = []\n",
        "#   for k in lst:\n",
        "#     if k == min(lst):\n",
        "#       lst2.append(k)\n",
        "#   # print(len(lst2) / len(lst))\n",
        "#   prob = len(lst2) / len(lst)\n",
        "#   if prob == 1:\n",
        "#     prob = 0\n",
        "#   print(prob)\n",
        "#   ans[i] = prob\n",
        "\n",
        "\n",
        "# print(ans)\n",
        "# print(sorted(ans, key = lambda x: ans[x], reverse = True))\n",
        "\n",
        "##########################################################"
      ],
      "metadata": {
        "colab": {
          "base_uri": "https://localhost:8080/"
        },
        "id": "zfN0fprhbpXq",
        "outputId": "95398ec1-3a9f-4dea-c092-add320406ee5"
      },
      "execution_count": 48,
      "outputs": [
        {
          "output_type": "stream",
          "name": "stdout",
          "text": [
            "[2, 1, 2, 6, 2, 4, 3, 3]\n",
            "0.125\n",
            "[2, 2, 6, 2, 4, 3, 3]\n",
            "0.42857142857142855\n",
            "[6, 4, 3, 3]\n",
            "0.5\n",
            "[6, 4]\n",
            "0.5\n",
            "[6]\n",
            "0\n",
            "{1: 0.125, 2: 0.42857142857142855, 3: 0.5, 4: 0.5, 5: 0}\n",
            "[3, 4, 2, 1, 5]\n"
          ]
        }
      ]
    },
    {
      "cell_type": "code",
      "source": [
        "##########################################################\n",
        "# 메모\n",
        "# N = 5\n",
        "# N = 4\n",
        "# stage =\t[2, 1, 2, 6, 2, 4, 3, 3]\n",
        "# stage =\t[4,4,4,4,4]\n",
        "# rate = {}\n",
        "\n",
        "# total = len(stage)\n",
        "\n",
        "# for i in range(1, N+1):\n",
        "#   if total != 0:\n",
        "#     fail = stage.count(i)\n",
        "#     rate[i] = fail / total\n",
        "#     total -= fail \n",
        "#   else:\n",
        "#     rate[i] = 0\n",
        "# print(rate)\n",
        "# print(sorted(rate, key = lambda x: rate[x], reverse = True))\n",
        "##########################################################"
      ],
      "metadata": {
        "id": "1qxrLvdGsn3m",
        "colab": {
          "base_uri": "https://localhost:8080/"
        },
        "outputId": "d7bfeb1d-d14c-4964-e5c1-c12bdbbb0f3e"
      },
      "execution_count": 12,
      "outputs": [
        {
          "output_type": "stream",
          "name": "stdout",
          "text": [
            "{1: 0.0, 2: 0.0, 3: 0.0, 4: 1.0}\n",
            "[4, 1, 2, 3]\n"
          ]
        }
      ]
    },
    {
      "cell_type": "code",
      "source": [
        ""
      ],
      "metadata": {
        "id": "DaI9HBBrbGn9"
      },
      "execution_count": null,
      "outputs": []
    }
  ]
}