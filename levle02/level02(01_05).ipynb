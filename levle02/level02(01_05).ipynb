{
  "nbformat": 4,
  "nbformat_minor": 0,
  "metadata": {
    "colab": {
      "name": "level02(01_).ipynb",
      "provenance": [],
      "collapsed_sections": []
    },
    "kernelspec": {
      "name": "python3",
      "display_name": "Python 3"
    },
    "language_info": {
      "name": "python"
    }
  },
  "cells": [
    {
      "cell_type": "markdown",
      "source": [
        "# 01.양궁대회"
      ],
      "metadata": {
        "id": "GAnP5HL9ED6y"
      }
    },
    {
      "cell_type": "code",
      "execution_count": null,
      "metadata": {
        "id": "xhTHJnmeD4Sj"
      },
      "outputs": [],
      "source": [
        "# https://www.youtube.com/watch?v=dzncNbPMiB4"
      ]
    },
    {
      "cell_type": "code",
      "source": [
        "def solution(n, info):\n",
        "    answer = [0] * 11\n",
        "    arr = [0] * 11 # 라이언이 쏜 화살의 개수\n",
        "    maxDiff = 0 # 어피치와 라이언의 점수 차이\n",
        "    # 10개의 원소를 가진 부분집합의 개수 (0은 공집합이라서 필요 없음)\n",
        "\n",
        "    for subset in range(1, 1<<10): # 1 * 2^10 = (1,1,1,1,1,1,1,1,1,1)\n",
        "        # 부분 집합에서 점수 계산\n",
        "        ryan = 0 \n",
        "        apeach = 0\n",
        "        cnt = 0 # 라이언이 화살을 과녁에 쏜 수\n",
        "        \n",
        "        # i 번째 원소가 부분집합(0을 제외한 1-10)에 존재하는지 확인\n",
        "        for i in range(10):\n",
        "            if subset & (1 << i): # subset에 i번째 인덱스에 1이 존재하는지(1을 i번 밈)\n",
        "                # 라이언이 이기는 상황\n",
        "                ryan += 10-i\n",
        "                arr[i] = info[i] + 1 # 라이언이 쏜 화살의 개수는 어피치보다 1개 많으면 됨\n",
        "                cnt += arr[i]\n",
        "\n",
        "            else:\n",
        "                # 라이언지 지는 상황 \n",
        "                arr[i] = 0 # 라이언은 화살을 안 쓰면 됨\n",
        "                if info[i]: # 어피치만 화살을 맞춘 경우\n",
        "                    apeach += 10-i\n",
        "\n",
        "        if cnt > n : continue # 화살을 주어진 수보다 많이 날린 경우는 무시하고 진행\n",
        "\n",
        "        arr[10] = n - cnt # 남은 화살을 모두 0점에 넣기\n",
        "        \n",
        "        # 점수 차가 같을 경우\n",
        "        if ryan - apeach == maxDiff:\n",
        "            # 가장 낮은 점수를 많이 맞춘 경우인지 확인(점수가 낮은 곳 부터 비교)\n",
        "            for j in reversed(range(11)):\n",
        "                # 지금이 더 낮은 점수에 해당된다면 업데이트\n",
        "                if arr[j] > answer[j]:\n",
        "                    maxDiff = ryan - apeach\n",
        "                    answer = arr[:]\n",
        "                    break\n",
        "                elif arr[j] < answer[j]:\n",
        "                    break\n",
        "                    \n",
        "        # 차이가 크다면 업데이트\n",
        "        elif ryan - apeach > maxDiff:\n",
        "            maxDiff = ryan - apeach\n",
        "            answer = arr[:]\n",
        "\n",
        "    # 라이언이 이기는 경우가 없는 경우\n",
        "    if maxDiff == 0:\n",
        "        answer = [-1]\n",
        "\n",
        "    return answer"
      ],
      "metadata": {
        "id": "B7Fr1ONpGFCP"
      },
      "execution_count": null,
      "outputs": []
    },
    {
      "cell_type": "markdown",
      "source": [
        "# 02.N개의 최소공배수"
      ],
      "metadata": {
        "id": "5FLlF_ZZ8BkF"
      }
    },
    {
      "cell_type": "code",
      "source": [
        "# 하나씩 돌면서 공약수 구하고 (최대 공약수 갱신) 그 공약수로 각자 나눠서 그 몫 곱하기\n",
        "# 가능하나 테스트 케이스에서 안됨\n",
        "arr = [2,6,8,14]\n",
        "# arr = [12, 18, 53]\n",
        "arr.sort()\n",
        "\n",
        "a, b = arr[0], arr[1]\n",
        "\n",
        "while b != 0:\n",
        "  a = a%b\n",
        "  a, b = b, a\n",
        "\n",
        "A = a\n",
        "\n",
        "for i in range(2, len(arr)):\n",
        "  a, b = arr[i], A\n",
        "  while b != 0:\n",
        "    a = a%b\n",
        "    a, b = b, a\n",
        "\n",
        "print(a)\n",
        "answer = 1\n",
        "\n",
        "for i in arr:\n",
        "  k = i//a\n",
        "  print(k)\n",
        "  answer *= k\n",
        "\n",
        "a * answer"
      ],
      "metadata": {
        "colab": {
          "base_uri": "https://localhost:8080/"
        },
        "id": "iuBCyxvH4KC7",
        "outputId": "0bf1f7e9-30d8-477a-8466-9ccafeeee6cf"
      },
      "execution_count": null,
      "outputs": [
        {
          "output_type": "stream",
          "name": "stdout",
          "text": [
            "2\n",
            "1\n",
            "3\n",
            "4\n",
            "7\n"
          ]
        },
        {
          "output_type": "execute_result",
          "data": {
            "text/plain": [
              "168"
            ]
          },
          "metadata": {},
          "execution_count": 1
        }
      ]
    },
    {
      "cell_type": "code",
      "source": [
        "# 위에 코드 간결화\n",
        "# 안됨\n",
        "arr = [2, 6, 8, 14]\n",
        "arr.sort()\n",
        "\n",
        "a = arr[0]\n",
        "\n",
        "for i in range(len(arr)-1):\n",
        "  a, b = arr[i], a\n",
        "  while b != 0:\n",
        "    a, b = b, a%b\n",
        "\n",
        "print(a)\n",
        "answer = 1\n",
        "\n",
        "for i in arr:\n",
        "  k = i//a\n",
        "  print(k)\n",
        "  answer *= k\n",
        "\n",
        "a * answer"
      ],
      "metadata": {
        "colab": {
          "base_uri": "https://localhost:8080/"
        },
        "id": "Q7Kelx6BWyZY",
        "outputId": "cc9258ad-fdee-40ab-cedf-e7ad16964a1d"
      },
      "execution_count": null,
      "outputs": [
        {
          "output_type": "stream",
          "name": "stdout",
          "text": [
            "2\n",
            "1\n",
            "3\n",
            "4\n",
            "7\n"
          ]
        },
        {
          "output_type": "execute_result",
          "data": {
            "text/plain": [
              "168"
            ]
          },
          "metadata": {},
          "execution_count": 35
        }
      ]
    },
    {
      "cell_type": "code",
      "source": [
        "# 최소 공배수를 각각 구해서 갱신하는 방향으로 접근\n",
        "# 성공\n",
        "def least_gbs(a, b):\n",
        "  A, B = a, b\n",
        "  while b != 0:\n",
        "    a, b = b, a%b\n",
        "  gys = a\n",
        "  return A*B // gys\n",
        "\n",
        "def solution(arr):\n",
        "  arr.sort()\n",
        "  first = arr[0]\n",
        "  for i in range(len(arr)):\n",
        "    first = least_gbs(first, arr[i])\n",
        "  return first"
      ],
      "metadata": {
        "id": "614KVYAiaJkR"
      },
      "execution_count": null,
      "outputs": []
    },
    {
      "cell_type": "code",
      "source": [
        "# 최대 공약수를 갱신 다시 도전\n",
        "# 안됨\n",
        "def gys(a, b):\n",
        "  A, B = a, b\n",
        "  while b != 0:\n",
        "    a, b = b, a%b\n",
        "  # gys = a\n",
        "  return a\n",
        "\n",
        "def solution(arr):\n",
        "  arr.sort()\n",
        "  first = arr[0]\n",
        "  for i in range(len(arr)):\n",
        "    first = gys(first, arr[i])\n",
        "  print(first)\n",
        "  \n",
        "  answer = 1\n",
        "  \n",
        "  for j in arr:\n",
        "    k = j//first\n",
        "    answer *= k\n",
        "  return first * answer"
      ],
      "metadata": {
        "id": "wUJKDzQNbrTl"
      },
      "execution_count": null,
      "outputs": []
    },
    {
      "cell_type": "code",
      "source": [
        "# 다른 사람 풀이\n",
        "from fractions import gcd\n",
        "\n",
        "def solution(arr):\n",
        "  answer = arr[0]\n",
        "  for i in arr:\n",
        "    answer = i * answer / gcd(i, answer)\n",
        "\n",
        "  return answer"
      ],
      "metadata": {
        "id": "GK1Q7ln3esLH"
      },
      "execution_count": null,
      "outputs": []
    },
    {
      "cell_type": "markdown",
      "source": [
        "# 03.N-Queen"
      ],
      "metadata": {
        "id": "0LNvxrC2JrfX"
      }
    },
    {
      "cell_type": "code",
      "source": [
        "n = 4\n",
        "\n",
        "for i in range(n):\n",
        "  for j in range"
      ],
      "metadata": {
        "id": "e3KQfUDnJu-F"
      },
      "execution_count": null,
      "outputs": []
    },
    {
      "cell_type": "markdown",
      "source": [
        "# 04.JadenCase 문자열 만들기"
      ],
      "metadata": {
        "id": "CD8U4TDfSMN7"
      }
    },
    {
      "cell_type": "code",
      "source": [
        "# 성공\n",
        "def solution(s):\n",
        "  answer = ''\n",
        "  # s = s.lower()\n",
        "  word = s.split(' ')\n",
        "\n",
        "  for i in range(len(word)):\n",
        "    word[i] = word[i].capitalize()\n",
        "\n",
        "  answer = ' '.join(word)\n",
        "\n",
        "  return answer"
      ],
      "metadata": {
        "id": "eRxg0my-XuHM"
      },
      "execution_count": null,
      "outputs": []
    },
    {
      "cell_type": "code",
      "source": [
        "# 안됨\n",
        "def solution(s):\n",
        "\n",
        "  s = s.lower()\n",
        "  s = s.replace(s[0], s[0].upper(), 1)\n",
        "\n",
        "  for i in range(len(s)):\n",
        "    if s[i] == ' ':\n",
        "      s = s.replace(s[i+1], s[i+1].upper(), 1)\n",
        "\n",
        "  return s"
      ],
      "metadata": {
        "id": "MUdkbBr2Wc_v"
      },
      "execution_count": null,
      "outputs": []
    },
    {
      "cell_type": "code",
      "source": [
        "s = \"3people unFollowed me\"\t\n",
        "\n",
        "answer = ''\n",
        "# s = s.lower()\n",
        "word = s.split(' ')\n",
        "\n",
        "for i in range(len(word)):\n",
        "  word[i] = word[i].capitalize()\n",
        "\n",
        "answer = ' '.join(word)\n",
        "\n",
        "answer"
      ],
      "metadata": {
        "colab": {
          "base_uri": "https://localhost:8080/",
          "height": 36
        },
        "id": "hAd90wkNSPKv",
        "outputId": "5b263b84-3aba-4a65-8a82-019d7dc92787"
      },
      "execution_count": null,
      "outputs": [
        {
          "output_type": "execute_result",
          "data": {
            "text/plain": [
              "'3people Unfollowed Me'"
            ],
            "application/vnd.google.colaboratory.intrinsic+json": {
              "type": "string"
            }
          },
          "metadata": {},
          "execution_count": 33
        }
      ]
    },
    {
      "cell_type": "markdown",
      "source": [
        "# 05.행렬의 곱셈"
      ],
      "metadata": {
        "id": "ybpbbrGHFtW_"
      }
    },
    {
      "cell_type": "code",
      "source": [
        "def solution(arr1, arr2):\n",
        "  answer = []\n",
        "\n",
        "  for i in range(len(arr1)):\n",
        "    sum_lst = []\n",
        "    for j in range(len(arr2[0])):\n",
        "      sum = 0\n",
        "      for k in range(len(arr2)):\n",
        "        sum += arr1[i][k] * arr2[k][j]\n",
        "\n",
        "      sum_lst.append(sum)\n",
        "    answer.append(sum_lst)\n",
        "\n",
        "  return answer"
      ],
      "metadata": {
        "id": "XIiahzlMPGtm"
      },
      "execution_count": null,
      "outputs": []
    },
    {
      "cell_type": "code",
      "source": [
        "# import numpy as np\n",
        "\n",
        "arr1 = [[1, 4], [3, 2], [4, 1]]\n",
        "arr1 = [[2, 3, 2], [4, 2, 4], [3, 1, 4]]\n",
        "arr2 = [[3, 3], [3, 3]]\n",
        "arr2 = [[5, 4, 3], [2, 4, 1], [3, 1, 1]]\n",
        "\n",
        "answer = []\n",
        "\n",
        "for i in range(len(arr1)):\n",
        "  sum_lst = []\n",
        "  for j in range(len(arr2[0])):\n",
        "    sum = 0\n",
        "    for k in range(len(arr2)):\n",
        "      sum += arr1[i][k] * arr2[k][j]\n",
        "\n",
        "    sum_lst.append(sum)\n",
        "  answer.append(sum_lst)\n",
        "\n",
        "answer\n",
        "\n",
        "\n",
        "# arr1 = np.array(arr1)\n",
        "# arr2 = np.array(arr2)\n",
        "\n",
        "# np.dot(arr1, arr2)"
      ],
      "metadata": {
        "id": "nxe_9TnpTnRt",
        "colab": {
          "base_uri": "https://localhost:8080/"
        },
        "outputId": "2f99365a-d2e8-4222-fa20-614297e5f9ae"
      },
      "execution_count": null,
      "outputs": [
        {
          "output_type": "execute_result",
          "data": {
            "text/plain": [
              "[[22, 22, 11], [36, 28, 18], [29, 20, 14]]"
            ]
          },
          "metadata": {},
          "execution_count": 10
        }
      ]
    },
    {
      "cell_type": "code",
      "source": [
        ""
      ],
      "metadata": {
        "id": "ph5ewpLDKtjD"
      },
      "execution_count": null,
      "outputs": []
    }
  ]
}